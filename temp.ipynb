{
 "cells": [
  {
   "cell_type": "markdown",
   "metadata": {},
   "source": [
    "# create cluster\n",
    "\n",
    "\n",
    "eksctl create cluster -f cluster.yaml\n",
    "\n",
    "https://github.com/pluralsight-cloud/hands-on-with-amazon-eks/blob/main/Infrastructure/eksctl/01-initial-cluster/cluster.yaml\n"
   ]
  },
  {
   "cell_type": "markdown",
   "metadata": {},
   "source": [
    "apiVersion: eksctl.io/v1alpha5\n",
    "kind: ClusterConfig\n",
    "\n",
    "metadata:\n",
    "  name: eks-acg\n",
    "  region: us-east-1\n",
    "  version: \"1.25\"\n",
    "\n",
    "vpc:\n",
    "  cidr: 10.0.0.0/16\n",
    "  nat:\n",
    "    gateway: HighlyAvailable\n",
    "nodeGroups:\n",
    "  - name: eks-node-group\n",
    "    instanceType: t3.medium\n",
    "    desiredCapacity: 3\n",
    "    privateNetworking: true\n",
    "    volumeSize: 30\n",
    "\n",
    "availabilityZones: [\"us-east-1a\", \"us-east-1b\", \"us-east-1c\"] # This is required since in us-east-1 only 2 subnets are created by default (https://eksctl.io/usage/vpc-networking/)"
   ]
  },
  {
   "cell_type": "code",
   "execution_count": null,
   "metadata": {},
   "outputs": [],
   "source": [
    "\n",
    "kubectl get nodes \n",
    "\n",
    "# check out kubernetest \n",
    "\n"
   ]
  },
  {
   "cell_type": "markdown",
   "metadata": {},
   "source": [
    "# create load balancer \n",
    "\n",
    "./create \n",
    "\n",
    "https://github.com/pluralsight-cloud/hands-on-with-amazon-eks/blob/main/Infrastructure/k8s-tooling/load-balancer-controller/create.sh\n",
    "\n",
    "after this point you will be able to see your lb controlers in the namespace kube-system but they wont be connected \n",
    "\n",
    "kubectl get pods -n kube-system\n"
   ]
  },
  {
   "cell_type": "markdown",
   "metadata": {},
   "source": [
    "helm repo add eks https://aws.github.io/eks-charts\n",
    "\n",
    "helm upgrade --install \\\n",
    "  -n kube-system \\\n",
    "  --set clusterName=eks-acg \\\n",
    "  --set serviceAccount.create=true \\\n",
    "  aws-load-balancer-controller eks/aws-load-balancer-controller\n",
    "\n",
    "aws cloudformation deploy \\\n",
    "    --stack-name aws-load-balancer-iam-policy \\\n",
    "    --template-file iam-policy.yaml \\\n",
    "    --capabilities CAPABILITY_IAM"
   ]
  },
  {
   "cell_type": "markdown",
   "metadata": {},
   "source": [
    "# iam policy to nodeInstanceRole "
   ]
  },
  {
   "cell_type": "markdown",
   "metadata": {},
   "source": [
    "# deployment \n",
    "\n",
    "apiVersion: apps/v1\n",
    "kind: Deployment\n",
    "metadata:\n",
    "  name: nginx-deployment\n",
    "  namespace: {{ .Release.Namespace }}\n",
    "  labels:\n",
    "    app: nginx\n",
    "spec:\n",
    "  replicas: 3\n",
    "  selector:\n",
    "    matchLabels:\n",
    "      app: nginx\n",
    "  template:\n",
    "    metadata:\n",
    "      labels:\n",
    "        app: nginx\n",
    "    spec:\n",
    "      containers:\n",
    "      - name: nginx\n",
    "        image: nginx:1.14.2\n",
    "        ports:\n",
    "        - containerPort: 80\n",
    "\n",
    "# ingress \n",
    "\n",
    "apiVersion: networking.k8s.io/v1\n",
    "kind: Ingress\n",
    "metadata:\n",
    "  name: services-ingress\n",
    "  namespace: {{ .Release.Namespace }}\n",
    "  annotations:\n",
    "    kubernetes.io/ingress.class: alb\n",
    "    alb.ingress.kubernetes.io/group.name: my-group\n",
    "    alb.ingress.kubernetes.io/scheme: internet-facing\n",
    "{{- if not .Values.ssl.enabled }}\n",
    "    alb.ingress.kubernetes.io/listen-ports: '[{\"HTTP\": 80}]'\n",
    "{{- else }}\n",
    "    alb.ingress.kubernetes.io/ssl-redirect: '443'\n",
    "    alb.ingress.kubernetes.io/listen-ports: '[{\"HTTP\": 80}, {\"HTTPS\": 443}]'\n",
    "{{- end }}\n",
    "  labels:\n",
    "    app: nginx\n",
    "spec:\n",
    "  rules:\n",
    "    - http:\n",
    "        paths:\n",
    "          - path: /*\n",
    "            pathType: ImplementationSpecific\n",
    "            backend:\n",
    "              service:\n",
    "                name: nginx-service\n",
    "                port: \n",
    "                  number: 80\n",
    "{{- if .Values.ssl.enabled }}\n",
    "      host: sample-app.{{ .Values.baseDomain }}\n",
    "{{- end }}\n",
    "\n",
    "\n",
    "# service \n",
    "\n",
    "apiVersion: v1\n",
    "kind: Service\n",
    "metadata:\n",
    "  name: nginx-service\n",
    "  namespace: {{ .Release.Namespace }}\n",
    "spec:\n",
    "  type: NodePort\n",
    "  selector:\n",
    "    app: nginx\n",
    "  ports:\n",
    "    - protocol: TCP\n",
    "      port: 80\n",
    "      targetPort: 80\n",
    "\n"
   ]
  },
  {
   "cell_type": "markdown",
   "metadata": {},
   "source": [
    "\n",
    "# use above with https://github.com/pluralsight-cloud/hands-on-with-amazon-eks/blob/main/Infrastructure/k8s-tooling/load-balancer-controller/test/run.sh\n",
    "\n",
    "helm upgrade --install sample-app ."
   ]
  },
  {
   "cell_type": "markdown",
   "metadata": {},
   "source": []
  },
  {
   "cell_type": "markdown",
   "metadata": {},
   "source": []
  },
  {
   "cell_type": "markdown",
   "metadata": {},
   "source": []
  }
 ],
 "metadata": {
  "language_info": {
   "name": "python"
  }
 },
 "nbformat": 4,
 "nbformat_minor": 2
}
